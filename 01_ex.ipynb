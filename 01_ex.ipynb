{
 "cells": [
  {
   "cell_type": "markdown",
   "id": "6eadf8f3a440b0c5",
   "metadata": {},
   "source": [
    "# Exercise 1\n",
    "## Authors: E. Vercesi; A. Dei Rossi, S. Huber*, L. Scarciglia\n",
    "\n",
    "This Notebook is a guideline for Exercise 1.\n",
    "\n",
    "Exercises marked with a (*) are a bit more challenging."
   ]
  },
  {
   "cell_type": "markdown",
   "id": "13c19f1afe426669",
   "metadata": {},
   "source": [
    "## Lists\n",
    "Lists are one of the fundamental data structures in Python. They are used to store ordered collections of items. \n",
    "\n",
    "Given the following list (of fruits), learn how to \n",
    "1. Access elements: print the first and last element (what is the index of the first element? What is index -1?).\n",
    "2. Modify elements (e.g, change the third element \"cherry\" to \"pineapple\").\n",
    "3. Get the length of the list.\n",
    "4. Add one element (\"blueberry\") at the end.\n",
    "5. Remove one element (\"banana\"). Take care of what functions [`pop`](https://www.w3schools.com/python/ref_list_pop.asp) or [`remove`](https://www.w3schools.com/python/ref_list_remove.asp) return and what happens to the original list. What is the meaning of *in-place* method?\n",
    "6. Learn about the meaning of slicing, then slice your list (get all elements in between index 1 and 3 inclusive).\n",
    "7. (*) Learn about the meaning of [list comprehension](https://docs.python.org/3/tutorial/datastructures.html#list-comprehensions) and filter your list of fruits by keeping only fruits starting with \"a\"."
   ]
  },
  {
   "cell_type": "code",
   "execution_count": 2,
   "id": "3ade4c133437e723",
   "metadata": {
    "ExecuteTime": {
     "end_time": "2024-09-13T13:04:00.561859Z",
     "start_time": "2024-09-13T13:04:00.555666Z"
    }
   },
   "outputs": [
    {
     "name": "stdout",
     "output_type": "stream",
     "text": [
      "apple\n",
      "['pineapple', 'orange', 'avocado']\n",
      "['apple', 'avocado']\n"
     ]
    }
   ],
   "source": [
    "fruits = [\"apple\", \"banana\", \"cherry\", \"orange\", \"avocado\"]\n",
    "\n",
    "## 1: print first and last element\n",
    "print(fruits[0])\n",
    "## 2: \"cherry\" -> \"pineapple\"\n",
    "fruits[2] = \"pineapple\"\n",
    "## 3: length\n",
    "len(fruits)\n",
    "## 4: add \"blueberry\" at the end\n",
    "fruits.append(\"blueberry\")\n",
    "## 5: remove \"banana\"\n",
    "fruits.remove(\"banana\")\n",
    "## 6: slicing: get elements between index 1 and 3 inclusive\n",
    "print(fruits[1:4])\n",
    "## 7: list comprehension: filter fruits that start with \"a\"\n",
    "fruits_starting_with_a = [fruit for fruit in fruits if fruit.startswith('a')]\n",
    "print(fruits_starting_with_a)"
   ]
  },
  {
   "cell_type": "markdown",
   "id": "a691145cbf354f65",
   "metadata": {},
   "source": [
    "## Numpy\n",
    "NumPy is a fundamental Python library for numerical and scientific computing. It provides support for working with large, multi-dimensional arrays and matrices, as well as a collection of mathematical functions to operate on these arrays efficiently. \n",
    "In this part, we will start learning some numpy basics. Before continuing, make sure you have numpy installed in your virtual environment. If not, install it using Conda or Pip by typing in your terminal `conda/pip install numpy`."
   ]
  },
  {
   "cell_type": "code",
   "execution_count": 3,
   "id": "f10ff783313245d1",
   "metadata": {
    "ExecuteTime": {
     "end_time": "2024-09-13T10:24:33.711865Z",
     "start_time": "2024-09-13T10:24:33.612864Z"
    }
   },
   "outputs": [],
   "source": [
    "import numpy as np\n",
    "np.random.seed(42)"
   ]
  },
  {
   "cell_type": "markdown",
   "id": "63c031a2-ff80-48cd-a7a5-249d9878ec2a",
   "metadata": {},
   "source": [
    "Question: what is the seed? What is it used for? Solution: see [here](https://medium.com/@debanjana.bhattacharyya9818/numpy-random-seed-101-explained-2e96ee3fd90b).\n",
    "\n",
    "For fun: why is the seed often set at [42](https://www.youtube.com/watch?v=aboZctrHfK8)? ;)"
   ]
  },
  {
   "cell_type": "markdown",
   "id": "fe61d4815f5af551",
   "metadata": {},
   "source": [
    "### Create numpy arrays\n",
    "\n",
    "Create numpy arrays out of:\n",
    "- list (And try to change the value of the element in position [1, 1] from 5 to 10)\n",
    "- tuple\n",
    "- (*) set\n",
    "\n",
    "and print the shape and the `dtype` of the arrays. Do you notice anything unexpected? ."
   ]
  },
  {
   "cell_type": "code",
   "execution_count": 4,
   "id": "7a3318cb03fa4224",
   "metadata": {
    "ExecuteTime": {
     "end_time": "2024-09-12T08:28:17.174772Z",
     "start_time": "2024-09-12T08:28:17.171744Z"
    }
   },
   "outputs": [
    {
     "name": "stdout",
     "output_type": "stream",
     "text": [
      "[[ 1  2  3]\n",
      " [ 4 10  6]]\n",
      "[1 2 3]\n"
     ]
    },
    {
     "data": {
      "text/plain": [
       "array({1, 2, 3}, dtype=object)"
      ]
     },
     "execution_count": 4,
     "metadata": {},
     "output_type": "execute_result"
    }
   ],
   "source": [
    "## 1: list\n",
    "my_list = [[1, 2, 3], [4, 5, 6]]\n",
    "np_list = np.array(my_list)\n",
    "np_list[1][1] = 10\n",
    "print(np_list)\n",
    "\n",
    "## 2: tuple\n",
    "my_tuple = (1, 2, 3)\n",
    "np_tuple = np.array(my_tuple)\n",
    "print(np_tuple)\n",
    "\n",
    "## 3: set\n",
    "my_set = {1, 2, 3}\n",
    "np.array(my_set)"
   ]
  },
  {
   "cell_type": "markdown",
   "id": "5fb42413bd4c908c",
   "metadata": {},
   "source": [
    "Check functions [`np.arange`](https://numpy.org/doc/stable/reference/generated/numpy.arange.html#numpy.arange) and [`np.linspace`](https://numpy.org/doc/stable/reference/generated/numpy.linspace.html) and create vectors of size (3, 4) ([`np.reshape`](https://numpy.org/doc/stable/reference/generated/numpy.reshape.html)) with values from 0 to 11 using both functions.  "
   ]
  },
  {
   "cell_type": "code",
   "execution_count": 5,
   "id": "3eb755e5e8d582de",
   "metadata": {
    "ExecuteTime": {
     "end_time": "2024-09-13T13:06:16.576312Z",
     "start_time": "2024-09-13T13:06:16.573999Z"
    }
   },
   "outputs": [
    {
     "data": {
      "text/plain": [
       "array([[ 0,  1,  2,  3],\n",
       "       [ 4,  5,  6,  7],\n",
       "       [ 8,  9, 10, 11]], dtype=int16)"
      ]
     },
     "execution_count": 5,
     "metadata": {},
     "output_type": "execute_result"
    }
   ],
   "source": [
    "# np.arange\n",
    "vectors = np.arange(12).reshape(3,4)\n",
    "# np.linspace\n",
    "np.linspace(0, 11, num=12, dtype=np.int16).reshape(3,4)"
   ]
  },
  {
   "cell_type": "markdown",
   "id": "e907a65b9222aa2c",
   "metadata": {},
   "source": [
    "### Slicing\n",
    "\n",
    "Take the above array of dimension (3, 4), and access (see [slicing](https://numpy.org/doc/stable/user/basics.indexing.html)):\n",
    "1) element in position [1,2].\n",
    "2) the third row.\n",
    "3) the third column.\n",
    "4) the 2x2 sub-matrix ranging in between the second and third row and first and second column."
   ]
  },
  {
   "cell_type": "code",
   "execution_count": 6,
   "id": "611910278d8d43a6",
   "metadata": {
    "ExecuteTime": {
     "end_time": "2024-09-12T14:38:48.732076Z",
     "start_time": "2024-09-12T14:38:48.729193Z"
    }
   },
   "outputs": [
    {
     "name": "stdout",
     "output_type": "stream",
     "text": [
      "6\n",
      "[ 8  9 10 11]\n",
      "[ 2  6 10]\n",
      "[[4 5]\n",
      " [8 9]]\n"
     ]
    }
   ],
   "source": [
    "## 1: access element\n",
    "print(vectors[1,2])\n",
    "## 2: access row\n",
    "print(vectors[2])\n",
    "## 3: access column\n",
    "print(vectors[..., 2])\n",
    "## 4: sub-matrix\n",
    "rows = np.array([1,2], dtype=np.intp)\n",
    "columns = np.array([0,1], dtype=np.intp)\n",
    "print(vectors[rows[:, np.newaxis], columns])"
   ]
  },
  {
   "cell_type": "markdown",
   "id": "33ef4e084c586c85",
   "metadata": {},
   "source": [
    "### Random arrays\n",
    "Create random multidimensional arrays and inspect their shape. Try different combinations of dimensions and different distributions (normal, uniform)\n",
    "\n",
    "1) Create a random array of size 4 of [uniform](https://numpy.org/doc/stable/reference/random/generated/numpy.random.rand.html) floating point numbers in the interval [0, 1).\n",
    "2) Create a random array of size (3, 2) of uniform floating point numbers in the interval [0, 5).\n",
    "3) Create a random array of size (2, 1, 2) of integers in the interval [10, 20].\n",
    "4) Create a random array of size 10 over the [normal](https://numpy.org/doc/stable/reference/random/generated/numpy.random.normal.html) distribution, mean 3 and std dev 2."
   ]
  },
  {
   "cell_type": "code",
   "execution_count": 7,
   "id": "286b556988670e1e",
   "metadata": {
    "ExecuteTime": {
     "end_time": "2024-09-13T13:09:01.317236Z",
     "start_time": "2024-09-13T13:09:01.315140Z"
    }
   },
   "outputs": [
    {
     "data": {
      "text/plain": [
       "array([ 3.60943416,  0.92003179,  4.50090239,  4.88112943, -0.90207038,\n",
       "        0.39564099,  3.25568081,  2.36751482,  2.96639768,  1.29391214])"
      ]
     },
     "execution_count": 7,
     "metadata": {},
     "output_type": "execute_result"
    }
   ],
   "source": [
    "## 1: \n",
    "np.random.rand(4)\n",
    "## 2: \n",
    "np.random.uniform(0,5,(3,2))\n",
    "## 3:\n",
    "np.random.randint(10,20, (2,1,2))\n",
    "## 4:\n",
    "rng = np.random.default_rng(seed=42)\n",
    "rng.normal(loc=3, scale=2, size=10)"
   ]
  },
  {
   "cell_type": "markdown",
   "id": "5d07c1af00ba053",
   "metadata": {},
   "source": [
    "### Copy arrays\n",
    "\n",
    "Please have a look at [`np.copy`](https://numpy.org/doc/stable/reference/generated/numpy.copy.html). \n",
    "1) Create a vector $v$ of size 3, copy it to a new vector $w$, change one entry of vector $w$ and make sure that $v$ is not affected.\n",
    "2) What if we wanted to change vector $v$ when changing the entries of $w$? "
   ]
  },
  {
   "cell_type": "code",
   "execution_count": 8,
   "id": "3761a9d50a9b219d",
   "metadata": {},
   "outputs": [
    {
     "name": "stdout",
     "output_type": "stream",
     "text": [
      "True\n",
      "True\n"
     ]
    }
   ],
   "source": [
    "## 1: Create vector v, copy it to w, change w and make sure v is unaltered.\n",
    "v = np.array([1,2,3])\n",
    "w = np.copy(v)\n",
    "w[0] = 5\n",
    "print(v[0] == 1)\n",
    "## 2: Create vector v, copy it to w, change w and make sure v is altered as well.\n",
    "v = np.array([1,2,3])\n",
    "w = v\n",
    "w[0] = 5\n",
    "print(v[0] == 5)"
   ]
  },
  {
   "cell_type": "markdown",
   "id": "a031a17e19749620",
   "metadata": {},
   "source": [
    "### Element-wise functions and broadcasting\n",
    "\n",
    "1) Given $v = [1, 2, 3], w = [4, 5, 6]$ compute $v - w$, that is, element-wise subtraction. \n",
    "\n",
    "2) What happens if $v = [1, 2]$? \n",
    "\n",
    "3) set $\\lambda=3$ and perform $\\lambda w$. Why can't you use as variable name the word \"lambda\"?\n",
    " \n",
    "4) (*) And if $v = \\begin{bmatrix} 4 & 7 & 6 \\\\ 5 & 8 & 9 \\end{bmatrix}$ (shape (2, 3)) and you want to subtract $w$ to all the rows of $v$? (Read carefully [broadcasting](https://numpy.org/doc/stable/user/basics.broadcasting.html)).\n",
    "\n",
    "5) (*) And if $v = \\begin{bmatrix} 4 & 5 \\\\ 7 & 8 \\\\ 6 & 9 \\end{bmatrix}$ (shape (3, 2)) and you want to subtract $w$ to all the columns of $v$? (See [`np.newaxis`](https://stackoverflow.com/a/41267079), `np.vstack` or `.T` transpose operator).\n",
    "\n"
   ]
  },
  {
   "cell_type": "code",
   "execution_count": 9,
   "id": "a847431f77c7f798",
   "metadata": {
    "ExecuteTime": {
     "end_time": "2024-09-13T13:14:22.961708Z",
     "start_time": "2024-09-13T13:14:22.958332Z"
    }
   },
   "outputs": [
    {
     "name": "stdout",
     "output_type": "stream",
     "text": [
      "[12 15 18]\n",
      "[[0 2 0]\n",
      " [1 3 3]]\n",
      "[[0 1]\n",
      " [2 3]\n",
      " [0 3]]\n",
      "[[0 1]\n",
      " [2 3]\n",
      " [0 3]]\n",
      "[[0 1]\n",
      " [2 3]\n",
      " [0 3]]\n"
     ]
    }
   ],
   "source": [
    "v = np.array([1, 2, 3])\n",
    "w = np.array([4, 5, 6])\n",
    "\n",
    "## 1: Perform v - w using numpy arrays\n",
    "v1 = v-w\n",
    "\n",
    "## 2: v is smaller than w, what does v - w do?\n",
    "v2 = np.array([1, 2])\n",
    "# v2-w # Will throw an exception\n",
    "\n",
    "## 3: Multiply all entries of w by lambda = 3.\n",
    "l = 3\n",
    "print(w*3)\n",
    "\n",
    "## 4: v is higher dimensional, subtract w from all the rows of v.\n",
    "v4 = np.array([[4, 7, 6], [5, 8, 9]])\n",
    "print(v4 - w)\n",
    "\n",
    "## 5: v is higher dimensional, subtract w from all the columns of v.\n",
    "v5 = np.array([[4, 5], [7, 8], [6, 9]])\n",
    "print((v5.T - w).T)\n",
    "print(v5-w[:, np.newaxis])\n",
    "print(v5-np.vstack(w))"
   ]
  },
  {
   "cell_type": "markdown",
   "id": "a2446822fcf0acf8",
   "metadata": {},
   "source": [
    "### Max, min, sum, along different axis\n",
    "\n",
    "1) Get the max value in the matrix $v = \\begin{bmatrix} 1 & 5 & 3 \\\\ 3 & 4 & 7 \\end{bmatrix}$.\n",
    "2) (*) Get the max value in the matrix $v$ along the columns (see [axis](https://www.pythonpool.com/numpy-axis/)). Predict the shape of the result vector.\n",
    "3) Get the max value in the matrix $v$ along the rows. Predict the shape of the result vector.\n",
    "4) (*) Create a random array of shape (2, 3, 4) and get the min along axis 1. Predict the shape of the result and understand what is going on.\n",
    "\n"
   ]
  },
  {
   "cell_type": "code",
   "execution_count": 10,
   "id": "1eba5922244c5997",
   "metadata": {
    "ExecuteTime": {
     "end_time": "2024-09-13T13:16:03.948102Z",
     "start_time": "2024-09-13T13:16:03.945439Z"
    }
   },
   "outputs": [
    {
     "name": "stdout",
     "output_type": "stream",
     "text": [
      "7\n",
      "()\n",
      "[3 5 7]\n",
      "[5 7]\n",
      "(2,)\n",
      "[[[11  5  1  0]\n",
      "  [11 11 16  9]\n",
      "  [15 14 14 18]]\n",
      "\n",
      " [[11 19  2  4]\n",
      "  [18  6  8  6]\n",
      "  [17  3 13 17]]]\n",
      "r shape: (2, 4)\n",
      "r matrix: \n",
      "[[11  5  1  0]\n",
      " [11  3  2  4]]\n",
      "--------------------\n",
      "[0 2]\n"
     ]
    }
   ],
   "source": [
    "v = np.array([[1, 5, 3], [3, 4, 7]])\n",
    "\n",
    "## 1: get max value.\n",
    "print(v.max())\n",
    "print(v.max().shape)\n",
    "## 2: get max value along the columns.\n",
    "print(v.max(axis=0))\n",
    "## 3: get the max value along the rows.\n",
    "print(v.max(axis=1))\n",
    "print(v.max(axis=1).shape)\n",
    "## 4: Create a random array of shape (2, 3, 4) and get the min along axis = 1. Predict the shape of the output matrix.\n",
    "r = np.random.randint(0,20,(2,3,4))\n",
    "print(r)\n",
    "r_min = r.min(axis=1)\n",
    "print(f\"r shape: {r_min.shape}\")\n",
    "print(f\"r matrix: \\n{r_min}\")\n",
    "print(\"--------------------\")\n",
    "print(r.min(axis=(1,2)))"
   ]
  },
  {
   "cell_type": "markdown",
   "id": "367ffbc7",
   "metadata": {},
   "source": [
    "### The value of the axis tells us which dimension will be collapsed (aka removed).\n",
    "\n",
    "In the case of shape (2,3,4),\n",
    "- `min(axis=0)` -> (3,4) \n",
    "- `min(axis=1)` -> (2,4)\n",
    "- `min(axis=2)` -> (2,3)\n",
    "- `min(axis=(1,2))` -> (2,)"
   ]
  },
  {
   "cell_type": "markdown",
   "id": "c87dac73669cd268",
   "metadata": {},
   "source": [
    "### [`np.matmul`](https://numpy.org/doc/stable/reference/generated/numpy.matmul.html), [`np.dot`](https://numpy.org/doc/stable/reference/generated/numpy.dot.html), [`@`](https://numpy.org/doc/stable/reference/generated/numpy.matmul.html) and `*`\n",
    "\n",
    "Learn the difference between these operands. (Keep in mind that `np.dot` does not get used frequently for high dimensional vectors).\n",
    "\n",
    "1. Take the dot product between two integer random vectors of size 3. Can you do it in multiple ways? In case you can, check that the result is the same.\n",
    "2. Take the element-wise product (Hadamard product) between two integer random matrices of size (4, 2). Predict the shape of the result.\n",
    "3. Take the dot product between an integer random matrix of size (3, 2) and an integer random vector of size (2). Predict the shape of the result. Can you do it in multiple ways? In case you can, check that the result is the same.\n",
    "4. Take the dot product between an integer random matrix of size (4, 3) and another integer random matrix of size (3, 2). Predict the shape of the result. Can you do it in multiple ways? In case you can, check that the result is the same.\n",
    "5. (*) (Optional, again `np.dot` is not frequently used for high dimensional vectors) see the difference between the `np.dot` and `np.matmul` of two integer random matrices of shape (2, 3, 3). Predict the shape of the two results. \n"
   ]
  },
  {
   "cell_type": "code",
   "execution_count": 11,
   "id": "afef90beac636a80",
   "metadata": {
    "ExecuteTime": {
     "end_time": "2024-09-12T14:27:06.309596Z",
     "start_time": "2024-09-12T14:27:06.303792Z"
    }
   },
   "outputs": [
    {
     "name": "stdout",
     "output_type": "stream",
     "text": [
      "a: [1 0 1] \t b: [4 1 3]\n",
      "np.dot: 7\n",
      "np.matmul: 7\n",
      "a @ b: 7\n",
      "np.dot == np.matmul: True\n",
      "np.dot == a @ b: True\n",
      "--------------------------------\n",
      "a: [[6 7]\n",
      " [2 0]\n",
      " [3 1]\n",
      " [7 3]] \n",
      "b: [[12 16]\n",
      " [16 14]\n",
      " [16 12]\n",
      " [12 14]]\n",
      "a * b:\n",
      " [[ 72 112]\n",
      " [ 32   0]\n",
      " [ 48  12]\n",
      " [ 84  42]]\n",
      "shape:\n",
      " (4, 2)\n",
      "--------------------------------\n",
      "a:\n",
      "[[3 0]\n",
      " [4 4]\n",
      " [1 4]] \n",
      "b: [1 0]\n",
      "np.dot: [3 4 1]\n",
      "np.matmul: [3 4 1]\n",
      "np.dot == np.matmul: [ True  True  True]\n",
      "--------------------------------\n",
      "a:\n",
      "[[3 3 3]\n",
      " [4 0 4]\n",
      " [4 0 0]\n",
      " [0 0 3]] \n",
      "b:\n",
      " [[2 2]\n",
      " [0 2]\n",
      " [2 0]]\n",
      "np.dot:\n",
      " [[12 12]\n",
      " [16  8]\n",
      " [ 8  8]\n",
      " [ 6  0]]\n",
      "np.matmul:\n",
      " [[12 12]\n",
      " [16  8]\n",
      " [ 8  8]\n",
      " [ 6  0]]\n",
      "np.dot == np.matmul: [[ True  True]\n",
      " [ True  True]\n",
      " [ True  True]\n",
      " [ True  True]]\n",
      "a:\n",
      "[[[2 4 1]\n",
      "  [1 0 3]\n",
      "  [0 3 1]]\n",
      "\n",
      " [[0 4 2]\n",
      "  [3 2 2]\n",
      "  [0 2 4]]] \n",
      "b:\n",
      " [[[2 0 4]\n",
      "  [1 2 0]\n",
      "  [1 1 3]]\n",
      "\n",
      " [[4 2 0]\n",
      "  [3 4 3]\n",
      "  [4 4 2]]]\n",
      "np.dot:\n",
      " [[[[ 9  9 11]\n",
      "   [24 24 14]]\n",
      "\n",
      "  [[ 5  3 13]\n",
      "   [16 14  6]]\n",
      "\n",
      "  [[ 4  7  3]\n",
      "   [13 16 11]]]\n",
      "\n",
      "\n",
      " [[[ 6 10  6]\n",
      "   [20 24 16]]\n",
      "\n",
      "  [[10  6 18]\n",
      "   [26 22 10]]\n",
      "\n",
      "  [[ 6  8 12]\n",
      "   [22 24 14]]]]\n",
      "np.matmul:\n",
      " [[[ 9  9 11]\n",
      "  [ 5  3 13]\n",
      "  [ 4  7  3]]\n",
      "\n",
      " [[20 24 16]\n",
      "  [26 22 10]\n",
      "  [22 24 14]]]\n",
      "np.dot.shape: (2, 3, 2, 3) np.matmul.shape: (2, 3, 3)\n"
     ]
    }
   ],
   "source": [
    "## 1: take dot product of 1 dimensional vectors.\n",
    "a = np.random.randint(0,5,size=3)\n",
    "b = np.random.randint(0,5,size=3)\n",
    "print(f'a: {a} \\t b: {b}' )\n",
    "print('np.dot:', np.dot(a, b))\n",
    "print('np.matmul:', np.matmul(a, b))\n",
    "print('a @ b:', a @ b)\n",
    "print('np.dot == np.matmul:', np.dot(a, b) == np.matmul(a, b))\n",
    "print('np.dot == a @ b:', np.dot(a, b) == a @ b)\n",
    "print('--------------------------------')\n",
    "## 2: take the Hadamard product of two matrices.\n",
    "a = np.random.randint(0,10,size=(4,2))\n",
    "b = np.random.randint(11,20,size=(4,2))\n",
    "print(f'a: {a} \\nb: {b}')\n",
    "print('a * b:\\n', a * b)\n",
    "print('shape:\\n', (a * b).shape)\n",
    "print('--------------------------------')\n",
    "## 3: take dot product matrix-vector.\n",
    "a = np.random.randint(0,5,size=(3,2))\n",
    "b = np.random.randint(0,5,size=2)\n",
    "print(f'a:\\n{a} \\nb: {b}' )\n",
    "print('np.dot:', np.dot(a, b))\n",
    "print('np.matmul:', np.matmul(a, b))\n",
    "print('np.dot == np.matmul:', np.dot(a, b) == np.matmul(a, b))\n",
    "print('--------------------------------')\n",
    "## 4: take dot product matrix-matrix.\n",
    "a = np.random.randint(0,5,size=(4,3))\n",
    "b = np.random.randint(0,5,size=(3,2))\n",
    "print(f'a:\\n{a} \\nb:\\n {b}' )\n",
    "print('np.dot:\\n', np.dot(a, b))\n",
    "print('np.matmul:\\n', np.matmul(a, b))\n",
    "print('np.dot == np.matmul:', np.dot(a, b) == np.matmul(a, b))\n",
    "## 5: np.dot vs np.matmul. \n",
    "a = np.random.randint(0,5,size=(2,3,3))\n",
    "b = np.random.randint(0,5,size=(2,3,3))\n",
    "print(f'a:\\n{a} \\nb:\\n {b}' )\n",
    "print('np.dot:\\n', np.dot(a, b))\n",
    "print('np.matmul:\\n', np.matmul(a, b))\n",
    "print('np.dot.shape:' , np.dot(a, b).shape, 'np.matmul.shape:', np.matmul(a, b).shape)"
   ]
  },
  {
   "cell_type": "markdown",
   "id": "690584d32ab976c7",
   "metadata": {},
   "source": [
    "### Apply functions to vectors\n",
    "\n",
    "Define a simple python function that computes $f(x,y) = xy + x + y$ for integer $x,y\\in\\mathbb{Z}$. \n",
    "Use numpy to apply such a function to two vectors of size 3, element by element. \n",
    "\n",
    "e.g. $v = [1,2,3]$, $w=[0,3,4]$, $f(v,w) = [1, 11, 19]$\n",
    "\n",
    "Hint: see [`np.vectorize`](https://numpy.org/doc/stable/reference/generated/numpy.vectorize.html)"
   ]
  },
  {
   "cell_type": "code",
   "execution_count": 12,
   "id": "3fc5ab3a1c46b083",
   "metadata": {
    "ExecuteTime": {
     "end_time": "2024-09-12T14:33:20.485282Z",
     "start_time": "2024-09-12T14:33:20.482615Z"
    }
   },
   "outputs": [
    {
     "name": "stdout",
     "output_type": "stream",
     "text": [
      "[ 1 11 19]\n"
     ]
    }
   ],
   "source": [
    "## Define function f\n",
    "def f(x: int, y: int) -> int:\n",
    "    return x*y + x + y\n",
    "\n",
    "vf = np.vectorize(f)\n",
    "## Apply function f to vectors v, w element by element\n",
    "v = np.array([1,2,3])\n",
    "w = np.array([0,3,4])\n",
    "print(vf(v, w))"
   ]
  },
  {
   "cell_type": "markdown",
   "id": "269ff1e57e3cce08",
   "metadata": {},
   "source": [
    "### Filtering\n",
    "\n",
    "Create a random vector of integers in the interval [0, 10) of size 10, and filter all elements larger than 4 and less than 8 and set them to 20. Try to do it using both [boolean masks](https://www.programiz.com/python-programming/numpy/boolean-indexing) and [`np.where`](https://numpy.org/doc/stable/reference/generated/numpy.where.html)"
   ]
  },
  {
   "cell_type": "code",
   "execution_count": 13,
   "id": "e3fa9a6ec6c7d959",
   "metadata": {
    "ExecuteTime": {
     "end_time": "2024-09-13T13:21:29.002440Z",
     "start_time": "2024-09-13T13:21:28.999983Z"
    }
   },
   "outputs": [
    {
     "name": "stdout",
     "output_type": "stream",
     "text": [
      "before: [2.03061225 9.42853571 5.98865466 6.94784933 8.80467839 6.24354048\n",
      " 2.95633686 1.0549426  4.5653457  2.18440437]\n",
      "after: [ 2.03061225  9.42853571 20.         20.          8.80467839 20.\n",
      "  2.95633686  1.0549426  20.          2.18440437]\n",
      "after where: [ 2.03061225  9.42853571 20.         20.          8.80467839 20.\n",
      "  2.95633686  1.0549426  20.          2.18440437]\n"
     ]
    }
   ],
   "source": [
    "## Filter elements in the interval [5, 8) and set them to 20\n",
    "x = np.random.uniform(0,10,10)\n",
    "condition = (x > 4) & (x < 8)\n",
    "## 1: boolean masks.\n",
    "print('before:', x)\n",
    "y = x.copy()\n",
    "y[condition] = 20\n",
    "print('after:', y)\n",
    "## 2: np.where.\n",
    "x = np.where(condition, 20, x)\n",
    "print('after where:', x)"
   ]
  },
  {
   "cell_type": "markdown",
   "id": "3a618e6b3861fa31",
   "metadata": {},
   "source": [
    "## The curse of dimensionality\n",
    "\n",
    "In this exercise you are going to experience the \"curse of dimensionality\": namely, data in a high dimensional space becomes increasingly sparse.\n",
    "\n",
    "We are going to visualize it graphically by plotting 10 random points in unit hypercubes of increasing dimensions (1, 2, 3)."
   ]
  },
  {
   "cell_type": "markdown",
   "id": "d4965585ce77150",
   "metadata": {},
   "source": [
    "1) To begin with, let us create a random vector of 10 data points uniformly distributed in the interval [0, 1). Plot this distribution using `matplotlib` see method `plt.scatter`.\n",
    "In order to scatter points, you need 2-dimensional points (axes $x,y$). In this case, just set the $y$ axis value to 0."
   ]
  },
  {
   "cell_type": "code",
   "execution_count": 14,
   "id": "c885a00a8df920de",
   "metadata": {
    "ExecuteTime": {
     "end_time": "2024-09-13T10:25:07.694820Z",
     "start_time": "2024-09-13T10:25:07.191217Z"
    }
   },
   "outputs": [],
   "source": [
    "import matplotlib.pyplot as plt"
   ]
  },
  {
   "cell_type": "code",
   "execution_count": 15,
   "id": "70f595d3c9aeb90",
   "metadata": {
    "ExecuteTime": {
     "end_time": "2024-09-14T09:17:52.783106Z",
     "start_time": "2024-09-14T09:17:52.780744Z"
    }
   },
   "outputs": [
    {
     "data": {
      "image/png": "[encoded data removed]",
      "text/plain": [
       "<Figure size 640x480 with 1 Axes>"
      ]
     },
     "metadata": {},
     "output_type": "display_data"
    }
   ],
   "source": [
    "## 1: Create 10 points in 1 dimension, and plot them on a line.\n",
    "\n",
    "data1d = np.random.rand(10) # Make sure its shape is (10, 1)\n",
    "plt.scatter(data1d, np.zeros(10))\n",
    "plt.xlim(0,1)\n",
    "plt.show()\n"
   ]
  },
  {
   "cell_type": "markdown",
   "id": "34816f5cc630403",
   "metadata": {},
   "source": [
    "2) Then, do the same for a 2-dimensional space: create 10 random points in the 2-dimensional unit hypercube (a square), and plot them."
   ]
  },
  {
   "cell_type": "code",
   "execution_count": 16,
   "id": "3cc8a662c0cb7419",
   "metadata": {
    "ExecuteTime": {
     "end_time": "2024-09-13T16:25:19.568831Z",
     "start_time": "2024-09-13T16:25:19.566159Z"
    }
   },
   "outputs": [
    {
     "data": {
      "image/png": "[encoded data removed]",
      "text/plain": [
       "<Figure size 640x480 with 1 Axes>"
      ]
     },
     "metadata": {},
     "output_type": "display_data"
    }
   ],
   "source": [
    "## 2: Create 10 points in 2 dimensions, and plot them in the 2D plane.\n",
    "\n",
    "data2d = np.random.uniform(0,1,(10,2))  # Make sure its shape is (10, 2)\n",
    "x = data2d[:,0]\n",
    "y = data2d[:,1]\n",
    "plt.scatter(x,y)\n",
    "plt.xlim(0,1)\n",
    "plt.ylim(0,1)\n",
    "plt.show()"
   ]
  },
  {
   "cell_type": "markdown",
   "id": "d72d81c31af22992",
   "metadata": {},
   "source": [
    "What do you notice? Do you think points are more spread out in the 2-dimensional or in the 1-dimensional hypercube?"
   ]
  },
  {
   "cell_type": "markdown",
   "id": "1398e35aceda9043",
   "metadata": {},
   "source": [
    "3) Let us try also with the 3-dimensional space: create 10 random points in the 3-dimensional unit hypercube (a cube), and plot them using [`ax.scatter3D`](https://www.geeksforgeeks.org/3d-scatter-plotting-in-python-using-matplotlib/)."
   ]
  },
  {
   "cell_type": "code",
   "execution_count": 17,
   "id": "326f11e900bbdf07",
   "metadata": {
    "ExecuteTime": {
     "end_time": "2024-09-13T16:25:15.160528Z",
     "start_time": "2024-09-13T16:25:15.157692Z"
    }
   },
   "outputs": [
    {
     "data": {
      "image/png": "[encoded data removed]",
      "text/plain": [
       "<Figure size 800x600 with 2 Axes>"
      ]
     },
     "metadata": {},
     "output_type": "display_data"
    }
   ],
   "source": [
    "from mpl_toolkits.mplot3d import Axes3D\n",
    "## 3: Create 10 points in 3D, and plot them in the 3D plane.\n",
    "\n",
    "data3d = np.random.uniform(0,1,(10,3))  # Make sure its shape is (10, 3)\n",
    "colors = data3d[:,2]\n",
    "fig = plt.figure(figsize=(8,6))\n",
    "ax = fig.add_subplot(111, projection='3d') # {None, 'aitoff', 'hammer', 'lambert', 'mollweide', 'polar', 'rectilinear', str}\n",
    "\n",
    "\n",
    "sc = ax.scatter3D(data3d[:,0], data3d[:,1], data3d[:,2], c=colors, cmap='viridis', marker='^')\n",
    "plt.colorbar(sc, ax=ax, label='Z Value')\n",
    "\n",
    "# Labels\n",
    "ax.set_xlabel('X Axis')\n",
    "ax.set_ylabel('Y Axis')\n",
    "ax.set_zlabel('Z Axis')\n",
    "ax.set_title('Basic 3D Scatter Plot')\n",
    "ax.set_xlim(0,1)\n",
    "ax.set_ylim(0,1)\n",
    "\n",
    "plt.show()\n"
   ]
  },
  {
   "cell_type": "markdown",
   "id": "2552cb661a19ecc5",
   "metadata": {},
   "source": [
    "What do you notice? Do you think points are more spread out in the 3-dimensional, 2-dimensional or 1-dimensional hypercube?"
   ]
  },
  {
   "cell_type": "markdown",
   "id": "e86fff05f7701287",
   "metadata": {},
   "source": [
    "Let us try to quantify numerically how distant from each other the points in the three hypercubes are. \n",
    "\n",
    "(*) Write a function that, taken a list of 10 $k$-dimensional points (shape (10, $k$), for any $k\\in\\mathbb{N}$), computes the average pairwise distance between all pairs of points.  \n",
    "\n",
    "The distance between two $k$-dimensional points $x, y$ is given by the formula $dist(x, y) = \\sqrt{\\sum_{i=1}^k (x_i - y_i)^2}$, for $x,y\\in\\mathbb{R}^k$.\n",
    "\n",
    "The average pairwise distance of a list $v$ of 10 $k$-dimensional points is given by the formula: $\\frac{\\sum_{i=1}^{9} \\sum_{j=i+1}^{10} dist(v_i, v_j)}{10 \\choose 2}$. Notice that $v$ has shape (10, $k$), and $v_i, v_j$ have both shape $k$. \n",
    "\n",
    "The binomial coefficient ${10 \\choose 2} := \\frac{10!}{2! (10-2)!}$, and it is nothing but the number of distinct pairs you can make with 10 numbers. You can also write it as: ${10 \\choose 2} = \\sum_{i=1}^{9} \\sum_{j=i+1}^{10} 1$.\n",
    "\n",
    "Try to use numpy core functions and broadcasting when possible."
   ]
  },
  {
   "cell_type": "code",
   "execution_count": 21,
   "id": "76883d3519e4b172",
   "metadata": {
    "ExecuteTime": {
     "end_time": "2024-09-13T16:19:13.772175Z",
     "start_time": "2024-09-13T16:19:13.768900Z"
    }
   },
   "outputs": [],
   "source": [
    "def dist(x: np.array, y: np.array) -> float:\n",
    "    return np.linalg.norm(x-y)\n",
    "\n",
    "def broadcast_dist(x: np.array, y: np.array) -> float:\n",
    "    return np.sqrt(np.sum((x-y)**2))\n",
    "\n",
    "def avg_pairwise_distance(v: np.array) -> float:\n",
    "    dists = 0\n",
    "    for i in range(9):\n",
    "        for j in range(1, 10):\n",
    "            dists += dist(v[i],v[j])\n",
    "    distances = np.sum([np.sum([dist(v[i], v[j]) for j in range(1, 10)]) for i in range(9)])\n",
    "    bin_co = (v.shape[0] - 1)**2\n",
    "    print(distances)\n",
    "    return distances/bin_co\n",
    "\n",
    "def average_pairwise_distance(points):\n",
    "    n = points.shape[0]\n",
    "    idx_i, idx_j = np.triu_indices(n, k=1)\n",
    "    diff = points[idx_i] - points[idx_j]\n",
    "    distances = np.sqrt(np.sum(diff**2, axis=1))\n",
    "    avg_distance = np.mean(distances)\n",
    "    return avg_distance\n",
    "\n",
    "def alt(v: np.array) -> float:\n",
    "    m1 = v[:9]\n",
    "    m2 = v[1:10]\n",
    "    \n"
   ]
  },
  {
   "cell_type": "markdown",
   "id": "2bf4233a82c0770d",
   "metadata": {},
   "source": [
    "Use the above function to compute the average distance between points in `data1d`, between points in `data2d` and between points in `data3d`. Which one is larger?"
   ]
  },
  {
   "cell_type": "code",
   "execution_count": null,
   "id": "401120275a135b59",
   "metadata": {},
   "outputs": [
    {
     "name": "stdout",
     "output_type": "stream",
     "text": [
      "26.95187623208895\n",
      "0.3327392127418389\n",
      "36.38089360960616\n",
      "0.4491468346864958\n",
      "45.007037685263285\n",
      "0.555642440558806\n",
      "0.6333691876046644\n"
     ]
    }
   ],
   "source": [
    "print(avg_pairwise_distance(data1d))\n",
    "#print(average_pairwise_distance(data1d))\n",
    "print(avg_pairwise_distance(data2d))\n",
    "print(avg_pairwise_distance(data3d))"
   ]
  },
  {
   "cell_type": "code",
   "execution_count": null,
   "id": "78679703",
   "metadata": {},
   "outputs": [],
   "source": []
  }
 ],
 "metadata": {
  "kernelspec": {
   "display_name": "Python (dllab)",
   "language": "python",
   "name": "dllab"
  },
  "language_info": {
   "codemirror_mode": {
    "name": "ipython",
    "version": 3
   },
   "file_extension": ".py",
   "mimetype": "text/x-python",
   "name": "python",
   "nbconvert_exporter": "python",
   "pygments_lexer": "ipython3",
   "version": "3.12.4"
  }
 },
 "nbformat": 4,
 "nbformat_minor": 5
}
